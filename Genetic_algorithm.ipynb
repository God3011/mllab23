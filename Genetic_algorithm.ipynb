{
 "cells": [
  {
   "cell_type": "markdown",
   "id": "60b0c70f",
   "metadata": {},
   "source": [
    "# Genetic algorithm implementation"
   ]
  },
  {
   "cell_type": "code",
   "execution_count": 1,
   "id": "2e5b3ee7",
   "metadata": {},
   "outputs": [
    {
     "name": "stdout",
     "output_type": "stream",
     "text": [
      "population\n",
      "[[1, 1, 1, 1, 0], [0, 0, 0, 1, 1], [1, 0, 0, 1, 1], [1, 0, 1, 1, 0], [1, 0, 1, 1, 1]]\n",
      "Generation 1: Best Solution = [1, 1, 1, 1, 0], Best Fitness = 4\n",
      "Generation 2: Best Solution = [1, 0, 1, 1, 1], Best Fitness = 4\n",
      "Generation 3: Best Solution = [1, 0, 1, 1, 0], Best Fitness = 3\n",
      "Generation 4: Best Solution = [1, 0, 1, 1, 1], Best Fitness = 4\n",
      "Generation 5: Best Solution = [1, 0, 1, 1, 1], Best Fitness = 4\n",
      "Generation 6: Best Solution = [0, 0, 1, 1, 1], Best Fitness = 3\n",
      "Generation 7: Best Solution = [0, 1, 1, 1, 1], Best Fitness = 4\n",
      "Generation 8: Best Solution = [0, 0, 1, 1, 1], Best Fitness = 3\n",
      "Generation 9: Best Solution = [0, 1, 1, 0, 1], Best Fitness = 3\n",
      "Generation 10: Best Solution = [0, 1, 1, 1, 0], Best Fitness = 3\n",
      "Final Best Solution: [0, 1, 1, 1, 0]\n",
      "Final Best Fitness: 3\n"
     ]
    }
   ],
   "source": [
    "import random\n",
    "\n",
    "# Define the fitness function\n",
    "def fitness_function(solution):\n",
    "    # Calculate the fitness of the solution\n",
    "    fitness = sum(solution)\n",
    "    return fitness\n",
    "\n",
    "# Main GA function\n",
    "def genetic_algorithm(chromosome_length, population_size, num_generations):\n",
    "    population = [[random.randint(0, 1) for _ in range(chromosome_length)] for _ in range(population_size)]\n",
    "    print(\"population\")\n",
    "    print(population)\n",
    "\n",
    "    for generation in range(num_generations):\n",
    "        # Evaluate the fitness of the population\n",
    "        fitness_values = [fitness_function(chromosome) for chromosome in population]\n",
    "\n",
    "        # Find the best solution in the current generation\n",
    "        best_solution = population[fitness_values.index(max(fitness_values))]\n",
    "        best_fitness = max(fitness_values)\n",
    "\n",
    "        # Print the best solution in each generation\n",
    "        print(f\"Generation {generation+1}: Best Solution = {best_solution}, Best Fitness = {best_fitness}\")\n",
    "\n",
    "        # Create the next generation\n",
    "        new_population = []\n",
    "\n",
    "        for _ in range(population_size):\n",
    "            parent1 = random.choice(population)\n",
    "            parent2 = random.choice(population)\n",
    "\n",
    "            # Perform crossover\n",
    "            crossover_point = random.randint(1, chromosome_length - 1)\n",
    "            child = parent1[:crossover_point] + parent2[crossover_point:]\n",
    "\n",
    "            # Perform mutation\n",
    "            for i in range(chromosome_length):\n",
    "                if random.random() < 0.1:  # Mutation rate of 0.1\n",
    "                    child[i] = 1 - child[i]\n",
    "\n",
    "            new_population.append(child)\n",
    "\n",
    "        population = new_population\n",
    "\n",
    "    return best_solution, best_fitness\n",
    "\n",
    "# Example usage\n",
    "chromosome_length = 5\n",
    "population_size = 5\n",
    "num_generations = 10\n",
    "\n",
    "best_solution, best_fitness = genetic_algorithm(chromosome_length, population_size, num_generations)\n",
    "print(\"Final Best Solution:\", best_solution)\n",
    "print(\"Final Best Fitness:\", best_fitness)"
   ]
  },
  {
   "cell_type": "code",
   "execution_count": null,
   "id": "acd8032e",
   "metadata": {},
   "outputs": [],
   "source": []
  }
 ],
 "metadata": {
  "kernelspec": {
   "display_name": "Python 3 (ipykernel)",
   "language": "python",
   "name": "python3"
  },
  "language_info": {
   "codemirror_mode": {
    "name": "ipython",
    "version": 3
   },
   "file_extension": ".py",
   "mimetype": "text/x-python",
   "name": "python",
   "nbconvert_exporter": "python",
   "pygments_lexer": "ipython3",
   "version": "3.9.13"
  }
 },
 "nbformat": 4,
 "nbformat_minor": 5
}
