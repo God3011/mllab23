{
 "cells": [
  {
   "cell_type": "code",
   "execution_count": 1,
   "id": "1a093d41",
   "metadata": {},
   "outputs": [
    {
     "name": "stdout",
     "output_type": "stream",
     "text": [
      "Feature Data:\n",
      "[[ 2.983269   -1.50867081  0.88093853 ... -0.35973794  0.07488569\n",
      "   1.01659065]\n",
      " [-0.20021697 -1.01617     0.01319385 ... -0.90057886 -1.5419175\n",
      "   0.95693258]\n",
      " [ 0.69819327 -0.26422534 -0.31676444 ... -1.44648213  0.48638511\n",
      "   1.63240786]\n",
      " ...\n",
      " [-1.40528445  0.5337351   0.10614917 ...  1.08336528 -0.10993324\n",
      "  -0.46833785]\n",
      " [-1.32962257 -0.04394533 -0.45731792 ... -0.40668098 -0.46723319\n",
      "  -0.67088397]\n",
      " [-0.48503067  0.15583531 -1.31287282 ...  1.60713209 -0.68035661\n",
      "  -0.79728302]]\n",
      "Target Labels:\n",
      "[0 1 0 1 1 1 0 0 1 1 1 1 0 0 0 1 0 0 0 1 1 0 0 0 0 1 1 1 0 1 1 0 1 0 1 1 0\n",
      " 1 1 1 0 1 0 1 0 0 1 1 0 1 1 0 0 1 0 1 1 0 0 1 0 0 1 1 0 0 0 0 0 0 1 1 1 1\n",
      " 0 1 0 1 0 1 1 0 1 1 0 0 0 1 0 1 1 0 1 0 0 1 1 0 0 0]\n"
     ]
    }
   ],
   "source": [
    "import numpy as np\n",
    "from sklearn.datasets import make_classification\n",
    "\n",
    "# Generate a synthetic classification dataset\n",
    "X, y = make_classification(n_samples=100, n_features=20, random_state=4)\n",
    "\n",
    "# Print the feature data and target labels\n",
    "print(\"Feature Data:\")\n",
    "print(X)\n",
    "print(\"Target Labels:\")\n",
    "print(y)"
   ]
  },
  {
   "cell_type": "code",
   "execution_count": 2,
   "id": "f5fd7651",
   "metadata": {},
   "outputs": [
    {
     "name": "stdout",
     "output_type": "stream",
     "text": [
      "AdaBoost Classifier Accuracy: 0.855\n",
      "Bagging Classifier Accuracy: 0.9\n",
      "Random Forest Classifier Accuracy: 0.9\n"
     ]
    }
   ],
   "source": [
    "import numpy as np\n",
    "from sklearn.datasets import make_classification\n",
    "from sklearn.model_selection import train_test_split\n",
    "from sklearn.ensemble import AdaBoostClassifier, BaggingClassifier, RandomForestClassifier\n",
    "from sklearn.metrics import accuracy_score\n",
    "\n",
    "# Generate a synthetic classification dataset\n",
    "X, y = make_classification(n_samples=1000, n_features=20, random_state=42)\n",
    "\n",
    "# Split the dataset into train and test sets\n",
    "X_train, X_test, y_train, y_test = train_test_split(X, y, test_size=0.2, random_state=42)\n",
    "\n",
    "# Boosting: AdaBoostClassifier\n",
    "boosting = AdaBoostClassifier(n_estimators=100, random_state=42)\n",
    "boosting.fit(X_train, y_train)\n",
    "boosting_pred = boosting.predict(X_test)\n",
    "boosting_accuracy = accuracy_score(y_test, boosting_pred)\n",
    "print(\"AdaBoost Classifier Accuracy:\", boosting_accuracy)\n",
    "\n",
    "# Bagging: BaggingClassifier\n",
    "bagging = BaggingClassifier(n_estimators=100, random_state=42)\n",
    "bagging.fit(X_train, y_train)\n",
    "bagging_pred = bagging.predict(X_test)\n",
    "bagging_accuracy = accuracy_score(y_test, bagging_pred)\n",
    "print(\"Bagging Classifier Accuracy:\", bagging_accuracy)\n",
    "\n",
    "# Random Forests: RandomForestClassifier\n",
    "random_forest = RandomForestClassifier(n_estimators=100, random_state=42)\n",
    "random_forest.fit(X_train, y_train)\n",
    "random_forest_pred = random_forest.predict(X_test)\n",
    "random_forest_accuracy = accuracy_score(y_test, random_forest_pred)\n",
    "print(\"Random Forest Classifier Accuracy:\", random_forest_accuracy)"
   ]
  },
  {
   "cell_type": "code",
   "execution_count": 1,
   "id": "10c78e09",
   "metadata": {},
   "outputs": [],
   "source": [
    "import pandas as pd"
   ]
  },
  {
   "cell_type": "code",
   "execution_count": 2,
   "id": "5115e36d",
   "metadata": {},
   "outputs": [],
   "source": [
    "mp=pd.read_csv('Mobileprice.csv')"
   ]
  },
  {
   "cell_type": "code",
   "execution_count": 5,
   "id": "71660dce",
   "metadata": {},
   "outputs": [],
   "source": [
    "import numpy as np\n",
    "from sklearn.datasets import make_classification\n",
    "from sklearn.model_selection import train_test_split\n",
    "from sklearn.ensemble import AdaBoostClassifier, BaggingClassifier, RandomForestClassifier\n",
    "from sklearn.metrics import accuracy_score"
   ]
  },
  {
   "cell_type": "code",
   "execution_count": 6,
   "id": "f1d8df99",
   "metadata": {},
   "outputs": [],
   "source": [
    "from sklearn.model_selection import train_test_split\n",
    "mp_train , mp_test = train_test_split(mp  , test_size= .2)\n",
    "mp_train_x  = mp_train.iloc[:, 0:-1]\n",
    "mp_train_y   = mp_train.iloc[:,-1]\n",
    "mp_test_x  = mp_test.iloc[:, 0:-1]\n",
    "mp_test_y   = mp_test.iloc[:,-1]"
   ]
  },
  {
   "cell_type": "code",
   "execution_count": 7,
   "id": "0845e082",
   "metadata": {},
   "outputs": [
    {
     "name": "stdout",
     "output_type": "stream",
     "text": [
      "AdaBoost Classifier Accuracy: 0.765\n"
     ]
    }
   ],
   "source": [
    "boosting = AdaBoostClassifier(n_estimators=100, random_state=42)\n",
    "boosting.fit(mp_train_x, mp_train_y)\n",
    "boosting_pred = boosting.predict(mp_test_x)\n",
    "boosting_accuracy = accuracy_score(mp_test_y, boosting_pred)\n",
    "print(\"AdaBoost Classifier Accuracy:\", boosting_accuracy)"
   ]
  },
  {
   "cell_type": "code",
   "execution_count": 8,
   "id": "fb2f22b3",
   "metadata": {},
   "outputs": [
    {
     "name": "stdout",
     "output_type": "stream",
     "text": [
      "Bagging Classifier Accuracy: 0.87\n"
     ]
    }
   ],
   "source": [
    "# Bagging: BaggingClassifier\n",
    "bagging = BaggingClassifier(n_estimators=100, random_state=42)\n",
    "bagging.fit(mp_train_x, mp_train_y)\n",
    "bagging_pred = bagging.predict(mp_test_x)\n",
    "bagging_accuracy = accuracy_score(mp_test_y, bagging_pred)\n",
    "print(\"Bagging Classifier Accuracy:\", bagging_accuracy)"
   ]
  },
  {
   "cell_type": "code",
   "execution_count": 9,
   "id": "51944b98",
   "metadata": {},
   "outputs": [
    {
     "name": "stdout",
     "output_type": "stream",
     "text": [
      "Random Forest Classifier Accuracy: 0.88\n"
     ]
    }
   ],
   "source": [
    "# Random Forests: RandomForestClassifier\n",
    "random_forest = RandomForestClassifier(n_estimators=100, random_state=42)\n",
    "random_forest.fit(mp_train_x, mp_train_y)\n",
    "random_forest_pred = random_forest.predict(mp_test_x)\n",
    "random_forest_accuracy = accuracy_score(mp_test_y, random_forest_pred)\n",
    "print(\"Random Forest Classifier Accuracy:\", random_forest_accuracy)"
   ]
  },
  {
   "cell_type": "code",
   "execution_count": null,
   "id": "d287ef6d",
   "metadata": {},
   "outputs": [],
   "source": []
  }
 ],
 "metadata": {
  "kernelspec": {
   "display_name": "Python 3 (ipykernel)",
   "language": "python",
   "name": "python3"
  },
  "language_info": {
   "codemirror_mode": {
    "name": "ipython",
    "version": 3
   },
   "file_extension": ".py",
   "mimetype": "text/x-python",
   "name": "python",
   "nbconvert_exporter": "python",
   "pygments_lexer": "ipython3",
   "version": "3.9.13"
  }
 },
 "nbformat": 4,
 "nbformat_minor": 5
}
